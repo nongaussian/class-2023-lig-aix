{
 "cells": [
  {
   "cell_type": "code",
   "execution_count": 149,
   "id": "d00defca-796b-4667-bc62-ba00bbcaabbc",
   "metadata": {
    "tags": []
   },
   "outputs": [],
   "source": [
    "import numpy as np\n",
    "import tensorflow as tf\n",
    "import matplotlib.pyplot as plt\n",
    "\n",
    "from tqdm import tqdm"
   ]
  },
  {
   "cell_type": "markdown",
   "id": "e50e3491-bb90-411b-bd9c-d616aed9f028",
   "metadata": {},
   "source": [
    "## [1] MNIST 데이터 준비"
   ]
  },
  {
   "cell_type": "code",
   "execution_count": 2,
   "id": "8b3d6a58-3c4a-4db0-8f1b-faaf24208688",
   "metadata": {
    "tags": []
   },
   "outputs": [],
   "source": [
    "(x_train, y_train), (x_test, y_test) = tf.keras.datasets.mnist.load_data()\n",
    "x_train, x_test = x_train.reshape(-1, 28, 28, 1), x_test.reshape(-1, 28, 28, 1)\n",
    "x_train, x_test = x_train / 255., x_test / 255.\n",
    "x_train, x_test = x_train.astype(np.float32), x_test.astype(np.float32)"
   ]
  },
  {
   "cell_type": "code",
   "execution_count": 3,
   "id": "edd61d96-237f-48f6-8809-f3190a2e9ddc",
   "metadata": {
    "tags": []
   },
   "outputs": [
    {
     "data": {
      "image/png": "[encoded data removed]",
      "text/plain": [
       "<Figure size 640x480 with 5 Axes>"
      ]
     },
     "metadata": {},
     "output_type": "display_data"
    }
   ],
   "source": [
    "for i in range(5):\n",
    "    plt.subplot(1, 5, i + 1)\n",
    "    plt.imshow(x_train[i, :, :, 0], cmap='gray')\n",
    "    plt.axis('off')\n",
    "plt.show()"
   ]
  },
  {
   "cell_type": "markdown",
   "id": "c2a97931-fd24-4263-9ae6-ebb2efa924b3",
   "metadata": {},
   "source": [
    "## [2] 모델 학습"
   ]
  },
  {
   "cell_type": "code",
   "execution_count": 4,
   "id": "9d48967f-af4a-432d-adfb-964bd614676e",
   "metadata": {
    "tags": []
   },
   "outputs": [],
   "source": [
    "def lenet5(num_classes=10):\n",
    "    model = tf.keras.Sequential([\n",
    "        tf.keras.layers.Conv2D(6, 5, activation='relu', input_shape=(28, 28, 1), padding='same'),\n",
    "        tf.keras.layers.AvgPool2D(2),\n",
    "        tf.keras.layers.Conv2D(16, 5, activation='relu'),\n",
    "        tf.keras.layers.AvgPool2D(2),\n",
    "        tf.keras.layers.Conv2D(120, 5, activation='relu'),\n",
    "        tf.keras.layers.Flatten(),\n",
    "        tf.keras.layers.Dense(84,activation='tanh'),\n",
    "        tf.keras.layers.Dense(num_classes)\n",
    "    ])\n",
    "    \n",
    "    return model"
   ]
  },
  {
   "cell_type": "code",
   "execution_count": 5,
   "id": "13a26661-fb2e-43c6-b627-7147fc2959ae",
   "metadata": {
    "tags": []
   },
   "outputs": [
    {
     "name": "stderr",
     "output_type": "stream",
     "text": [
      "2023-05-21 22:13:17.964584: I tensorflow/core/common_runtime/gpu/gpu_device.cc:1635] Created device /job:localhost/replica:0/task:0/device:GPU:0 with 22215 MB memory:  -> device: 0, name: NVIDIA GeForce RTX 3090 Ti, pci bus id: 0000:01:00.0, compute capability: 8.6\n"
     ]
    }
   ],
   "source": [
    "model = lenet5()\n",
    "\n",
    "optimizer = tf.keras.optimizers.Adam(learning_rate=0.001)\n",
    "loss_fn = tf.keras.losses.SparseCategoricalCrossentropy(from_logits=True)\n",
    "\n",
    "model.compile(optimizer=optimizer,\n",
    "              loss=loss_fn,\n",
    "              metrics='accuracy')"
   ]
  },
  {
   "cell_type": "code",
   "execution_count": 6,
   "id": "cc3ceceb-daad-47bb-b3af-0447565d604d",
   "metadata": {
    "tags": []
   },
   "outputs": [
    {
     "name": "stdout",
     "output_type": "stream",
     "text": [
      "Epoch 1/5\n"
     ]
    },
    {
     "name": "stderr",
     "output_type": "stream",
     "text": [
      "2023-05-21 22:13:19.708939: I tensorflow/compiler/xla/stream_executor/cuda/cuda_dnn.cc:424] Loaded cuDNN version 8600\n",
      "2023-05-21 22:13:20.098366: I tensorflow/tsl/platform/default/subprocess.cc:304] Start cannot spawn child process: No such file or directory\n",
      "2023-05-21 22:13:20.139454: I tensorflow/compiler/xla/stream_executor/cuda/cuda_blas.cc:637] TensorFloat-32 will be used for the matrix multiplication. This will only be logged once.\n",
      "2023-05-21 22:13:20.140740: I tensorflow/compiler/xla/service/service.cc:169] XLA service 0x218a7d70 initialized for platform CUDA (this does not guarantee that XLA will be used). Devices:\n",
      "2023-05-21 22:13:20.140753: I tensorflow/compiler/xla/service/service.cc:177]   StreamExecutor device (0): NVIDIA GeForce RTX 3090 Ti, Compute Capability 8.6\n",
      "2023-05-21 22:13:20.143641: I tensorflow/compiler/mlir/tensorflow/utils/dump_mlir_util.cc:269] disabling MLIR crash reproducer, set env var `MLIR_CRASH_REPRODUCER_DIRECTORY` to enable.\n",
      "2023-05-21 22:13:20.186161: I tensorflow/tsl/platform/default/subprocess.cc:304] Start cannot spawn child process: No such file or directory\n",
      "2023-05-21 22:13:20.221098: I ./tensorflow/compiler/jit/device_compiler.h:180] Compiled cluster using XLA!  This line is logged at most once for the lifetime of the process.\n"
     ]
    },
    {
     "name": "stdout",
     "output_type": "stream",
     "text": [
      "235/235 [==============================] - 3s 3ms/step - loss: 0.4709 - accuracy: 0.8737 - val_loss: 0.1491 - val_accuracy: 0.9543\n",
      "Epoch 2/5\n",
      "235/235 [==============================] - 0s 2ms/step - loss: 0.1203 - accuracy: 0.9634 - val_loss: 0.0836 - val_accuracy: 0.9750\n",
      "Epoch 3/5\n",
      "235/235 [==============================] - 0s 2ms/step - loss: 0.0815 - accuracy: 0.9750 - val_loss: 0.0699 - val_accuracy: 0.9774\n",
      "Epoch 4/5\n",
      "235/235 [==============================] - 0s 2ms/step - loss: 0.0653 - accuracy: 0.9800 - val_loss: 0.0554 - val_accuracy: 0.9830\n",
      "Epoch 5/5\n",
      "235/235 [==============================] - 0s 2ms/step - loss: 0.0543 - accuracy: 0.9834 - val_loss: 0.0443 - val_accuracy: 0.9855\n"
     ]
    }
   ],
   "source": [
    "history = model.fit(x_train, y_train, epochs=5, batch_size=256, validation_data=(x_test, y_test))"
   ]
  },
  {
   "cell_type": "markdown",
   "id": "afd69281-8cc6-482c-8b89-bede6b675aed",
   "metadata": {},
   "source": [
    "## [3] Strategy 1: Increasing Pixel Intensities"
   ]
  },
  {
   "cell_type": "code",
   "execution_count": 150,
   "id": "6f11add1-5ad4-4549-a227-bdb76ece6643",
   "metadata": {
    "tags": []
   },
   "outputs": [],
   "source": [
    "def increase_intensity(img, target_class):\n",
    "    # img.shape = (1, 28, 28, 1)\n",
    "    \n",
    "    search_indices = np.ones((784,))\n",
    "    X = np.copy(img)\n",
    "    \n",
    "    while True:\n",
    "        inputs = tf.Variable(X)\n",
    "        with tf.GradientTape(persistent=True) as tape:\n",
    "            tape.watch(inputs)\n",
    "            outputs = model(inputs)\n",
    "            pred = np.argmax(outputs[0])\n",
    "            outputs = [ output for output in outputs[0]]\n",
    "        \n",
    "        if pred == target_class:\n",
    "            break\n",
    "        \n",
    "        # (1) forward derivative\n",
    "        grads = np.stack([ tape.gradient(output, inputs)[0, :, :, 0] for output in outputs])\n",
    "        grads = grads.reshape(-1, 28 * 28)\n",
    "        \n",
    "        # (2) saliency map\n",
    "        saliency_map = np.zeros((28 * 28,))\n",
    "        mask = np.ones(10)\n",
    "        mask[target_class] = 0\n",
    "        \n",
    "        for i in range(784):\n",
    "            if search_indices[i] == 0:\n",
    "                continue\n",
    "\n",
    "            target_grad = grads[target_class, i]\n",
    "            untarget_grad = (grads[:, i] * mask).sum()\n",
    "            if target_grad < 0 or untarget_grad > 0:\n",
    "                continue\n",
    "            saliency_map[i] = target_grad * np.abs(untarget_grad)\n",
    "            \n",
    "        noise_idx = np.argmax(saliency_map)\n",
    "        search_indices[noise_idx] = 0\n",
    "        \n",
    "        # (3) modify argmax pixel\n",
    "        noise_i, noise_j = noise_idx // 28, noise_idx % 28\n",
    "        X[:, noise_i, noise_j, :] = 1.\n",
    "    \n",
    "    return X"
   ]
  },
  {
   "cell_type": "code",
   "execution_count": 151,
   "id": "d7135d8e-9752-4c0b-a14e-d45a93c72ed8",
   "metadata": {
    "tags": []
   },
   "outputs": [
    {
     "name": "stderr",
     "output_type": "stream",
     "text": [
      "100%|###########################################| 10/10 [00:04<00:00,  2.21it/s]\n"
     ]
    }
   ],
   "source": [
    "original_class = 1\n",
    "\n",
    "sample_indices = np.arange(len(y_test))[y_test == original_class]\n",
    "sample_idx = np.random.choice(sample_indices)\n",
    "\n",
    "sample = x_test[sample_idx:sample_idx+1]\n",
    "\n",
    "output_images = []\n",
    "for target_class in tqdm(range(10), ncols=80, ascii=True):\n",
    "    output = increase_intensity(sample, target_class=target_class)\n",
    "    output_images.append(output)"
   ]
  },
  {
   "cell_type": "code",
   "execution_count": 152,
   "id": "c8a2a1fd-53ef-4431-ab67-92aa3707bdab",
   "metadata": {
    "tags": []
   },
   "outputs": [
    {
     "data": {
      "image/png": "[encoded data removed]",
      "text/plain": [
       "<Figure size 1000x200 with 10 Axes>"
      ]
     },
     "metadata": {},
     "output_type": "display_data"
    }
   ],
   "source": [
    "plt.figure(figsize=(10, 2))\n",
    "\n",
    "for i in range(10):\n",
    "    plt.subplot(1, 10, i + 1)\n",
    "    plt.imshow(output_images[i][0, :, :, 0], cmap='gray')\n",
    "    plt.title(i)\n",
    "    plt.axis('off')\n",
    "plt.tight_layout()\n",
    "plt.show()"
   ]
  },
  {
   "cell_type": "markdown",
   "id": "97f70b85-09d7-4221-99ea-840bef8de7c8",
   "metadata": {},
   "source": [
    "## [4] Strategy 2: Decreasing Pixel Intensities"
   ]
  },
  {
   "cell_type": "code",
   "execution_count": 145,
   "id": "5c507a9e-6066-4c7a-bfbe-6eeb0146147c",
   "metadata": {
    "tags": []
   },
   "outputs": [],
   "source": [
    "def decrease_intensity(img, target_class):\n",
    "    # img.shape = (1, 28, 28, 1)\n",
    "    \n",
    "    search_indices = np.ones((784,))\n",
    "    X = np.copy(img)\n",
    "    \n",
    "    for _ in range(784):  \n",
    "        inputs = tf.Variable(X)\n",
    "        with tf.GradientTape(persistent=True) as tape:\n",
    "            tape.watch(inputs)\n",
    "            outputs = model(inputs)\n",
    "            pred = np.argmax(outputs[0])\n",
    "            outputs = [ output for output in outputs[0]]\n",
    "        \n",
    "        if pred == target_class:\n",
    "            break\n",
    "        \n",
    "        # (1) forward derivative\n",
    "        grads = np.stack([ tape.gradient(output, inputs)[0, :, :, 0] for output in outputs])\n",
    "        grads = grads.reshape(-1, 28 * 28)\n",
    "        \n",
    "        # (2) saliency map\n",
    "        saliency_map = np.zeros((28 * 28,))\n",
    "        mask = np.ones(10)\n",
    "        mask[target_class] = 0\n",
    "        \n",
    "        for i in range(784):\n",
    "            if search_indices[i] == 0:\n",
    "                continue\n",
    "\n",
    "            target_grad = grads[target_class, i]\n",
    "            untarget_grad = (grads[:, i] * mask).sum()\n",
    "            if target_grad > 0 or untarget_grad < 0:\n",
    "                continue\n",
    "            saliency_map[i] = np.abs(target_grad) * untarget_grad\n",
    "            \n",
    "        noise_idx = np.argmax(saliency_map)\n",
    "        search_indices[noise_idx] = 0\n",
    "        \n",
    "        # (3) modify argmax pixel\n",
    "        noise_i, noise_j = noise_idx // 28, noise_idx % 28\n",
    "        X[:, noise_i, noise_j, :] = 0.\n",
    "    \n",
    "    return X"
   ]
  },
  {
   "cell_type": "code",
   "execution_count": 147,
   "id": "4f97e921-cd5a-46d6-b36d-ba695902eba1",
   "metadata": {
    "tags": []
   },
   "outputs": [
    {
     "name": "stderr",
     "output_type": "stream",
     "text": [
      "100%|███████████████████████████████████████████| 10/10 [00:44<00:00,  4.49s/it]\n"
     ]
    }
   ],
   "source": [
    "original_class = 8\n",
    "\n",
    "sample_indices = np.arange(len(y_test))[y_test == original_class]\n",
    "sample_idx = np.random.choice(sample_indices)\n",
    "\n",
    "sample = x_test[sample_idx:sample_idx+1]\n",
    "\n",
    "output_images = []\n",
    "for target_class in tqdm(range(10), ncols=80, ascii=True):\n",
    "    output = decrease_intensity(sample, target_class=target_class)\n",
    "    output_images.append(output)"
   ]
  },
  {
   "cell_type": "code",
   "execution_count": 148,
   "id": "a78f63b6-09fe-4df2-ab12-7e6d07a70d82",
   "metadata": {
    "tags": []
   },
   "outputs": [
    {
     "data": {
      "image/png": "[encoded data removed]",
      "text/plain": [
       "<Figure size 1000x200 with 10 Axes>"
      ]
     },
     "metadata": {},
     "output_type": "display_data"
    }
   ],
   "source": [
    "plt.figure(figsize=(10, 2))\n",
    "\n",
    "for i in range(10):\n",
    "    plt.subplot(1, 10, i + 1)\n",
    "    plt.imshow(output_images[i][0, :, :, 0], cmap='gray')\n",
    "    plt.title(i)\n",
    "    plt.axis('off')\n",
    "plt.tight_layout()\n",
    "plt.show()"
   ]
  },
  {
   "cell_type": "code",
   "execution_count": null,
   "id": "f0cf916d-6b8a-4337-babf-8a55e0beb247",
   "metadata": {},
   "outputs": [],
   "source": []
  }
 ],
 "metadata": {
  "kernelspec": {
   "display_name": "Python 3 (ipykernel)",
   "language": "python",
   "name": "python3"
  },
  "language_info": {
   "codemirror_mode": {
    "name": "ipython",
    "version": 3
   },
   "file_extension": ".py",
   "mimetype": "text/x-python",
   "name": "python",
   "nbconvert_exporter": "python",
   "pygments_lexer": "ipython3",
   "version": "3.8.16"
  }
 },
 "nbformat": 4,
 "nbformat_minor": 5
}
