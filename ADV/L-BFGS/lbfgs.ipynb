{
 "cells": [
  {
   "cell_type": "code",
   "execution_count": 1,
   "id": "11533587-5673-4e48-b8ed-1f1ef1b9a4f6",
   "metadata": {},
   "outputs": [
    {
     "name": "stdout",
     "output_type": "stream",
     "text": [
      "2.9.1\n"
     ]
    }
   ],
   "source": [
    "import tensorflow as tf\n",
    "import numpy as np\n",
    "import logging\n",
    "import matplotlib.pyplot as plt\n",
    "from tqdm import tqdm \n",
    "import pickle\n",
    "\n",
    "print(tf.__version__)\n"
   ]
  },
  {
   "cell_type": "markdown",
   "id": "08273215-1a79-4f3f-b474-ab42528b635a",
   "metadata": {},
   "source": [
    "# Mnist dataset"
   ]
  },
  {
   "cell_type": "code",
   "execution_count": 2,
   "id": "1cf22cd1-efd2-40db-ac4c-16cc04d99b9a",
   "metadata": {},
   "outputs": [],
   "source": [
    "# Load MNIST test set\n",
    "_,mnist_testset = tf.keras.datasets.mnist.load_data()\n",
    "\n",
    "# Preprocessing transformation\n",
    "transform = tf.keras.models.Sequential([\n",
    "    tf.keras.layers.Reshape(target_shape=(28,28,1)),\n",
    "    tf.keras.layers.experimental.preprocessing.Rescaling(scale=1./255)\n",
    "])\n",
    "\n",
    "# Apply transformation to test set\n",
    "mnist_testset = (transform(mnist_testset[0]), mnist_testset[1])\n",
    "\n",
    "# Create TensorFlow dataset from test set\n",
    "test_dataset = tf.data.Dataset.from_tensor_slices(mnist_testset)\n",
    "test_dataset = test_dataset.batch(1).shuffle(buffer_size=len(mnist_testset[0]))\n",
    "\n"
   ]
  },
  {
   "cell_type": "code",
   "execution_count": 3,
   "id": "53600839-c5d2-48c8-95e8-dda533b12769",
   "metadata": {},
   "outputs": [
    {
     "data": {
      "text/plain": [
       "TensorShape([1, 28, 28, 1])"
      ]
     },
     "execution_count": 3,
     "metadata": {},
     "output_type": "execute_result"
    }
   ],
   "source": [
    "test_loader = iter(test_dataset)\n",
    "data , target = next(iter(test_loader))\n",
    "data.shape"
   ]
  },
  {
   "cell_type": "markdown",
   "id": "5777d9c4-001b-4f87-809d-2e80d6943617",
   "metadata": {},
   "source": [
    "# Model"
   ]
  },
  {
   "cell_type": "code",
   "execution_count": 4,
   "id": "bca9be28-329e-4cbd-83d1-9d7c2628cb17",
   "metadata": {},
   "outputs": [],
   "source": [
    "class Net(tf.keras.Model):\n",
    "    def __init__(self):\n",
    "        super(Net, self).__init__()\n",
    "        self.conv1 = tf.keras.layers.Conv2D(10, kernel_size=5, padding='valid')\n",
    "        self.conv2 = tf.keras.layers.Conv2D(20, kernel_size=5, padding='valid')\n",
    "        self.conv2_drop = tf.keras.layers.Dropout(0.5)\n",
    "        self.fc1 = tf.keras.layers.Dense(50)\n",
    "        self.fc2 = tf.keras.layers.Dense(10)\n",
    "\n",
    "    def call(self, x, training=False):\n",
    "        x = self.conv1(x) \n",
    "        x = tf.keras.layers.MaxPooling2D(pool_size=(2, 2))(x)\n",
    "        x = tf.nn.relu(x)        \n",
    "        x = self.conv2(x)\n",
    "        if training:\n",
    "            x = self.conv2_drop(x, training=training)\n",
    "        x = tf.keras.layers.MaxPooling2D(pool_size=(2, 2))(x)\n",
    "        x = tf.nn.relu(x)\n",
    "        x = tf.transpose(x, (0, 3, 1, 2))\n",
    "        x = tf.reshape(x, (-1, 320))\n",
    "        x = self.fc1(x)\n",
    "        x = tf.nn.relu(x)\n",
    "        if training:\n",
    "            x = tf.keras.layers.Dropout(0.5)(x, training=training)\n",
    "        x = self.fc2(x)\n",
    "        return x\n",
    "\n",
    "# Init the network\n",
    "model = Net()\n",
    "model.build(input_shape=(None, 28, 28, 1))\n",
    "\n",
    "with open('./lenet5.pkl', 'rb') as f:\n",
    "    weights = pickle.load(f)\n",
    "model.set_weights(weights[:])"
   ]
  },
  {
   "cell_type": "markdown",
   "id": "4c0fb382-cec1-44af-8fed-6f7295ed8766",
   "metadata": {},
   "source": [
    "# LBFGS attack\n",
    "The idea of this method is to solve the following optimization problem:\n",
    "\n",
    "$min_{x_{adv}}d(x_{adv} , x) \\; s.c.\\; f(x_{adv}) = y_{target}$\n",
    "\n",
    "The method is designed to ﬁnd **the smallest possible attack perturbation*** using a quasi Newton optimization method : LBFGS.\n",
    "\n",
    "In general, the exact computation of D(x, l) is a hard problem, so we approximate it by using a box-constrained L-BFGS.\n",
    "\n",
    "$ min_{x_{adv}} c*d(x_{adv} , x) + loss(x_{adv},y_{target}) s.c.\\; x_{adv} \\in [0,1]^n $\n",
    "\n",
    "Concretly we perform a line search to ﬁnd the minimum c > 0 for the classifier correctly "
   ]
  },
  {
   "cell_type": "code",
   "execution_count": 5,
   "id": "beb9c0c6-7c21-407d-afab-28e47bec6dc0",
   "metadata": {},
   "outputs": [],
   "source": [
    "from scipy.optimize import fmin_l_bfgs_b\n",
    "\n",
    "class LBFGSAttack():\n",
    "    \"\"\"\n",
    "    Class LBFGS attack L-BFGS-B to minimize the cross-entropy and the distance between the\n",
    "    original and the adversary.\n",
    "    \"\"\"\n",
    "    def __init__(self, model):\n",
    "        self._adv = None  \n",
    "        self.model = model\n",
    "        # Init bounds for lbfgs algorithm\n",
    "        self.bounds = (0, 1)\n",
    "        self._output = None\n",
    "\n",
    "    def __call__(self, data, target, epsilon=0.01, steps=10):\n",
    "        self.data = data\n",
    "        self.target = target\n",
    "        \n",
    "        # finding initial value for c        \n",
    "        c = epsilon\n",
    "        x0 = self.data.numpy().flatten().astype(np.float32)\n",
    "        \n",
    "        # Line search init\n",
    "        for i in range(30):\n",
    "            c = 2 * c\n",
    "            is_adversary = self._lbfgsb(x0, c, steps)\n",
    "            \n",
    "            if is_adversary:\n",
    "                # print('Successful')\n",
    "                break\n",
    "            \n",
    "        if not is_adversary:\n",
    "            return self._adv\n",
    "        \n",
    "        # binary search c\n",
    "        c_low = 0\n",
    "        c_high = c\n",
    "    \n",
    "        while c_high - c_low >= epsilon:\n",
    "            \n",
    "            c_half = (c_low + c_high) / 2\n",
    "            is_adversary = self._lbfgsb(x0, c_half, steps)\n",
    "            if is_adversary:\n",
    "                c_high = c_high - epsilon\n",
    "            else:\n",
    "                c_low = c_half\n",
    "                \n",
    "    def _loss(self, adv_x, c):\n",
    "        adv = tf.convert_to_tensor(adv_x.reshape(self.data.shape), dtype=tf.float32)\n",
    "        adv = tf.Variable(adv, trainable=True)\n",
    "\n",
    "        with tf.GradientTape() as tape:\n",
    "            output = self.model(adv)\n",
    "\n",
    "            ce = tf.keras.losses.sparse_categorical_crossentropy(self.target, output, from_logits=True)\n",
    "            ce = tf.reduce_mean(ce)\n",
    "            d = tf.reduce_sum(tf.square(self.data - adv))\n",
    "            loss = c * ce + d\n",
    "\n",
    "        gradients = tape.gradient(loss, adv)\n",
    "        grad_ret = tf.reshape(gradients, [-1]).numpy().astype(float)\n",
    "        loss = loss.numpy().astype(float)\n",
    "\n",
    "        return loss, grad_ret\n",
    "\n",
    "    def _lbfgsb(self, x0, c, maxiter):\n",
    "        \n",
    "        min_, max_ = self.bounds\n",
    "        bounds = [(min_, max_)] * len(x0)\n",
    "        approx_grad_eps = (max_ - min_) / 100.0\n",
    "        \n",
    "        x, f, d = fmin_l_bfgs_b( # self._loss 를 최소화하는 x값, \n",
    "            self._loss,\n",
    "            x0,\n",
    "            args=(c, ),\n",
    "            bounds=bounds,\n",
    "            maxiter=maxiter,\n",
    "            epsilon=approx_grad_eps)\n",
    "        \n",
    "        if np.amax(x) > max_ or np.amin(x) < min_:\n",
    "            x = np.clip(x, min_, max_)\n",
    "        adv = tf.convert_to_tensor(x.reshape(self.data.shape), dtype=tf.float32)\n",
    "        \n",
    "        output = self.model(adv)\n",
    "        adv_label = tf.argmax(output, axis=1)\n",
    "        logging.info('target_label = {}, adv_label={}'.format(self.target, adv_label))\n",
    "        self._adv = adv\n",
    "        self._output = output\n",
    "        return adv_label.numpy().item() == self.target.numpy().item()"
   ]
  },
  {
   "cell_type": "code",
   "execution_count": 7,
   "id": "bc87ced0-29bb-4efa-bb02-31220aa64bfa",
   "metadata": {},
   "outputs": [
    {
     "name": "stdout",
     "output_type": "stream",
     "text": [
      "attack\n"
     ]
    }
   ],
   "source": [
    "test_loader = iter(test_dataset)\n",
    "data_origin , label_origin = next(iter(test_loader))\n",
    "print(\"attack\")\n",
    "\n",
    "lbfgs = LBFGSAttack(model,)\n",
    "\n",
    "lbfgs.__call__(data_origin, tf.ones(1), epsilon=0.01) #목표 라벨 : 1\n",
    "\n",
    "adv = lbfgs._adv\n",
    "\n",
    "label_adv = tf.argmax(model(adv), axis=1)\n",
    "\n",
    "#proba_original = tf.reduce_max(model(data)).numpy()*100\n",
    "proba_adv = tf.reduce_max(tf.nn.softmax(lbfgs._output), axis=1).numpy() * 100\n"
   ]
  },
  {
   "cell_type": "code",
   "execution_count": 15,
   "id": "d2282932-3913-48b5-bd14-47b8704b4776",
   "metadata": {},
   "outputs": [
    {
     "name": "stdout",
     "output_type": "stream",
     "text": [
      "\n",
      "모델이 예측한 원래 이미지 결과: tf.Tensor([6], shape=(1,), dtype=int64)\n",
      "원래 이미지 라벨 tf.Tensor([6], shape=(1,), dtype=uint8)\n",
      "\n"
     ]
    },
    {
     "data": {
      "text/plain": [
       "<matplotlib.image.AxesImage at 0x1b029a9c308>"
      ]
     },
     "execution_count": 15,
     "metadata": {},
     "output_type": "execute_result"
    },
    {
     "data": {
      "image/png": "[encoded data removed]",
      "text/plain": [
       "<Figure size 800x1000 with 2 Axes>"
      ]
     },
     "metadata": {},
     "output_type": "display_data"
    }
   ],
   "source": [
    "import os    \n",
    "os.environ['KMP_DUPLICATE_LIB_OK']='True' #plt 실행할 때 kernel dead되는거 방지\n",
    "print(\"\")\n",
    "print(\"모델이 예측한 원래 이미지 결과:\",tf.argmax(model(data_origin),axis=1))\n",
    "print(\"원래 이미지 라벨\",label_origin)\n",
    "print(\"\")\n",
    "\n",
    "fig, ax = plt.subplots(1, 2, figsize=(8, 10))\n",
    "\n",
    "# Adversarial Example 그리기 \n",
    "adv = tf.reshape(adv,(28,28))\n",
    "ax[1].imshow(adv, cmap='Greys')\n",
    "ax[1].set_title(\"Adversarial Example: {}, proba = {}%\".format(label_adv.numpy()[0],\n",
    "                                                               round(proba_adv[0], 2)))\n",
    "# Original data 그리기\n",
    "data = tf.reshape(data_origin,(28,28))\n",
    "ax[0].imshow(data, cmap='Greys')\n",
    "#ax[0].set_title(\"Original image: {}, proba = {}%\".format(target.numpy()[0], round(proba_original, 2)))"
   ]
  },
  {
   "cell_type": "code",
   "execution_count": null,
   "id": "f693e254-88e9-414b-a786-26b571116bac",
   "metadata": {},
   "outputs": [],
   "source": []
  }
 ],
 "metadata": {
  "kernelspec": {
   "display_name": "Python 3 (ipykernel)",
   "language": "python",
   "name": "python3"
  },
  "language_info": {
   "codemirror_mode": {
    "name": "ipython",
    "version": 3
   },
   "file_extension": ".py",
   "mimetype": "text/x-python",
   "name": "python",
   "nbconvert_exporter": "python",
   "pygments_lexer": "ipython3",
   "version": "3.7.13"
  }
 },
 "nbformat": 4,
 "nbformat_minor": 5
}
