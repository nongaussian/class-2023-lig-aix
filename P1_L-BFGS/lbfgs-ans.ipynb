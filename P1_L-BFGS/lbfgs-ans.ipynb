{
 "cells": [
  {
   "cell_type": "code",
   "execution_count": 1,
   "id": "11533587-5673-4e48-b8ed-1f1ef1b9a4f6",
   "metadata": {
    "colab": {
     "base_uri": "https://localhost:8080/"
    },
    "executionInfo": {
     "elapsed": 6124,
     "status": "ok",
     "timestamp": 1685610400290,
     "user": {
      "displayName": "Younghoon Kim",
      "userId": "02502586489806404813"
     },
     "user_tz": -540
    },
    "id": "11533587-5673-4e48-b8ed-1f1ef1b9a4f6",
    "outputId": "acddcc27-0c61-496d-9c59-65a8599a6276"
   },
   "outputs": [
    {
     "name": "stdout",
     "output_type": "stream",
     "text": [
      "2.12.0\n"
     ]
    }
   ],
   "source": [
    "import tensorflow as tf\n",
    "import numpy as np\n",
    "import logging\n",
    "import matplotlib.pyplot as plt\n",
    "from tqdm import tqdm \n",
    "import pickle\n",
    "\n",
    "print(tf.__version__)\n"
   ]
  },
  {
   "cell_type": "markdown",
   "id": "08273215-1a79-4f3f-b474-ab42528b635a",
   "metadata": {
    "id": "08273215-1a79-4f3f-b474-ab42528b635a"
   },
   "source": [
    "# Mnist dataset"
   ]
  },
  {
   "cell_type": "code",
   "execution_count": 2,
   "id": "1cf22cd1-efd2-40db-ac4c-16cc04d99b9a",
   "metadata": {
    "colab": {
     "base_uri": "https://localhost:8080/"
    },
    "executionInfo": {
     "elapsed": 1291,
     "status": "ok",
     "timestamp": 1685610407839,
     "user": {
      "displayName": "Younghoon Kim",
      "userId": "02502586489806404813"
     },
     "user_tz": -540
    },
    "id": "1cf22cd1-efd2-40db-ac4c-16cc04d99b9a",
    "outputId": "6cff07f8-5d51-48de-bdfc-664cf4a79fa1"
   },
   "outputs": [
    {
     "name": "stdout",
     "output_type": "stream",
     "text": [
      "Downloading data from https://storage.googleapis.com/tensorflow/tf-keras-datasets/mnist.npz\n",
      "11490434/11490434 [==============================] - 0s 0us/step\n"
     ]
    }
   ],
   "source": [
    "# Load MNIST test set\n",
    "_,mnist_testset = tf.keras.datasets.mnist.load_data()\n",
    "\n",
    "# Preprocessing transformation\n",
    "transform = tf.keras.models.Sequential([\n",
    "    tf.keras.layers.Reshape(target_shape=(28,28,1)),\n",
    "    tf.keras.layers.experimental.preprocessing.Rescaling(scale=1./255)\n",
    "])\n",
    "\n",
    "# Apply transformation to test set\n",
    "mnist_testset = (transform(mnist_testset[0]), mnist_testset[1])\n",
    "\n",
    "# Create TensorFlow dataset from test set\n",
    "test_dataset = tf.data.Dataset.from_tensor_slices(mnist_testset)\n",
    "test_dataset = test_dataset.batch(1).shuffle(buffer_size=len(mnist_testset[0]))\n",
    "\n"
   ]
  },
  {
   "cell_type": "code",
   "execution_count": 3,
   "id": "53600839-c5d2-48c8-95e8-dda533b12769",
   "metadata": {
    "colab": {
     "base_uri": "https://localhost:8080/"
    },
    "executionInfo": {
     "elapsed": 327,
     "status": "ok",
     "timestamp": 1685610413286,
     "user": {
      "displayName": "Younghoon Kim",
      "userId": "02502586489806404813"
     },
     "user_tz": -540
    },
    "id": "53600839-c5d2-48c8-95e8-dda533b12769",
    "outputId": "655c240c-bb57-4b2b-9a9b-f1eb299d20ae"
   },
   "outputs": [
    {
     "data": {
      "text/plain": [
       "TensorShape([1, 28, 28, 1])"
      ]
     },
     "execution_count": 3,
     "metadata": {},
     "output_type": "execute_result"
    }
   ],
   "source": [
    "test_loader = iter(test_dataset)\n",
    "data , target = next(iter(test_loader))\n",
    "data.shape"
   ]
  },
  {
   "cell_type": "markdown",
   "id": "5777d9c4-001b-4f87-809d-2e80d6943617",
   "metadata": {
    "id": "5777d9c4-001b-4f87-809d-2e80d6943617"
   },
   "source": [
    "# LeNet-5 Model\n",
    "\n",
    "구조\n",
    "* Conv2D with 10 kernels of size 5x5, 패딩 없음 \n",
    "* MaxPooling2D (크기 2x2)\n",
    "* Conv2D with 20 kernels of size 5x5, 패딩 없음\n",
    "* Dropout\n",
    "* MaxPooling2D (크기 2x2)\n",
    "* Dense with 출력노드 50개\n",
    "* Dense with 출력노드 ?개"
   ]
  },
  {
   "cell_type": "code",
   "execution_count": 4,
   "id": "bca9be28-329e-4cbd-83d1-9d7c2628cb17",
   "metadata": {
    "executionInfo": {
     "elapsed": 312,
     "status": "ok",
     "timestamp": 1685610442415,
     "user": {
      "displayName": "Younghoon Kim",
      "userId": "02502586489806404813"
     },
     "user_tz": -540
    },
    "id": "bca9be28-329e-4cbd-83d1-9d7c2628cb17"
   },
   "outputs": [],
   "source": [
    "class Net(tf.keras.Model):\n",
    "    def __init__(self):\n",
    "        super(Net, self).__init__()\n",
    "        self.conv1 = tf.keras.layers.Conv2D(10, kernel_size=5, padding='valid')\n",
    "        self.conv2 = tf.keras.layers.Conv2D(20, kernel_size=5, padding='valid')\n",
    "        self.conv2_drop = tf.keras.layers.Dropout(0.5)\n",
    "        self.fc1 = tf.keras.layers.Dense(50)\n",
    "        self.fc2 = tf.keras.layers.Dense(10)\n",
    "\n",
    "    def call(self, x, training=False):\n",
    "        x = self.conv1(x) \n",
    "        x = tf.keras.layers.MaxPooling2D(pool_size=(2, 2))(x)\n",
    "        x = tf.nn.relu(x)        \n",
    "        x = self.conv2(x)\n",
    "        if training:\n",
    "            x = self.conv2_drop(x, training=training)\n",
    "        x = tf.keras.layers.MaxPooling2D(pool_size=(2, 2))(x)\n",
    "        x = tf.nn.relu(x)\n",
    "        x = tf.transpose(x, (0, 3, 1, 2))\n",
    "        x = tf.reshape(x, (-1, 320))\n",
    "        x = self.fc1(x)\n",
    "        x = tf.nn.relu(x)\n",
    "        if training:\n",
    "            x = tf.keras.layers.Dropout(0.5)(x, training=training)\n",
    "        x = self.fc2(x)\n",
    "        return x"
   ]
  },
  {
   "cell_type": "code",
   "execution_count": 5,
   "id": "ywMUKGY6ZBMz",
   "metadata": {
    "colab": {
     "base_uri": "https://localhost:8080/"
    },
    "executionInfo": {
     "elapsed": 19308,
     "status": "ok",
     "timestamp": 1685610466236,
     "user": {
      "displayName": "Younghoon Kim",
      "userId": "02502586489806404813"
     },
     "user_tz": -540
    },
    "id": "ywMUKGY6ZBMz",
    "outputId": "744698e4-008e-4297-8e6d-39ef625fbc00"
   },
   "outputs": [
    {
     "name": "stdout",
     "output_type": "stream",
     "text": [
      "Mounted at /content/drive\n"
     ]
    }
   ],
   "source": [
    "from google.colab import drive\n",
    "drive.mount('/content/drive')"
   ]
  },
  {
   "cell_type": "code",
   "execution_count": 6,
   "id": "gbJeUHqAZFz-",
   "metadata": {
    "executionInfo": {
     "elapsed": 764,
     "status": "ok",
     "timestamp": 1685610470090,
     "user": {
      "displayName": "Younghoon Kim",
      "userId": "02502586489806404813"
     },
     "user_tz": -540
    },
    "id": "gbJeUHqAZFz-"
   },
   "outputs": [],
   "source": [
    "# load the network\n",
    "model = Net()\n",
    "model.build(input_shape=(None, 28, 28, 1))\n",
    "\n",
    "with open('drive/MyDrive/Test/LIG/lenet5.pkl', 'rb') as f:\n",
    "    weights = pickle.load(f)\n",
    "model.set_weights(weights[:])"
   ]
  },
  {
   "cell_type": "markdown",
   "id": "4c0fb382-cec1-44af-8fed-6f7295ed8766",
   "metadata": {
    "id": "4c0fb382-cec1-44af-8fed-6f7295ed8766"
   },
   "source": [
    "# L-BFGS Attack\n",
    "이 방법의 아이디어는 다음과 같은 최적화 문제를 해결하는 것입니다:\n",
    "\n",
    "$min_{x_{adv}}d(x_{adv} , x) \\; s.t.\\; f(x_{adv}) = y_{target}$\n",
    "\n",
    "이 방법은 준 뉴턴 최적화 방법인 L-BFGS를 사용하여 **가능한 가장 작은 공격 섭동**을 찾도록 설계되었습니다. 일반적으로 위 최적화 문제의 해법은 정확한 계산은 어려워 박스 제약 L-BFGS를 사용하여 근사치를 구합니다.\n",
    "\n",
    "$ min_{x_{adv}} c*d(x_{adv} , x) + loss(x_{adv},y_{target}) s.t.\\; x_{adv} \\in [0,1]^n $\n",
    "\n",
    "여기서 거리 d는 유클리디안 거리를 사용하며, 공격에 성공하는 섭동의 크기 c는 라인서치를 이용해서 찾습니다. 즉, 위 최적화 문제의 해, $x + r$을 찾았다고 하더라도 공격이 성공하여 $f(x_{adv}) = y_{target}$를 만족한다는 보장이 없기 때문에 여러 c의 값을 반복하여 시도해보고 그중 가장 작은 c의 값에 의한 섭동 r을 사용합니다.\n",
    "\n",
    "c의 값은, 극단적으로 가령 0일 경우 $loss(x_{adv},y_{target})$만을 최소화 하기에 공격에 성공을 하며, 따라서 공격을 성공하는 c의 값 중 가장 작은 값을 찾는다."
   ]
  },
  {
   "cell_type": "code",
   "execution_count": 7,
   "id": "beb9c0c6-7c21-407d-afab-28e47bec6dc0",
   "metadata": {
    "executionInfo": {
     "elapsed": 760,
     "status": "ok",
     "timestamp": 1685610481774,
     "user": {
      "displayName": "Younghoon Kim",
      "userId": "02502586489806404813"
     },
     "user_tz": -540
    },
    "id": "beb9c0c6-7c21-407d-afab-28e47bec6dc0"
   },
   "outputs": [],
   "source": [
    "from scipy.optimize import fmin_l_bfgs_b\n",
    "\n",
    "class LBFGSAttack():\n",
    "    \"\"\"\n",
    "    Class LBFGS attack L-BFGS-B to minimize the cross-entropy and the distance between the\n",
    "    original and the adversary.\n",
    "    \"\"\"\n",
    "    def __init__(self, model):\n",
    "        self._adv = None  \n",
    "        self.model = model\n",
    "        # Init bounds for lbfgs algorithm\n",
    "        self.bounds = (0, 1)\n",
    "        self._output = None\n",
    "\n",
    "    def __call__(self, data, target, epsilon=0.01, steps=10):\n",
    "        self.data = data\n",
    "        self.target = target\n",
    "        \n",
    "        # finding initial value for c        \n",
    "        c = epsilon\n",
    "        x0 = self.data.numpy().flatten().astype(np.float32)\n",
    "        \n",
    "        # Line search initialization\n",
    "        # 우선, 공격에 성공하는 c의 값을 rough하게 epsilon에서부터 doubling해가면서 찾습니다.\n",
    "        for i in range(30):\n",
    "            c = 2 * c\n",
    "            is_adversary = self._lbfgsb(x0, c, steps)\n",
    "            \n",
    "            if is_adversary:\n",
    "                # print('Successful')\n",
    "                break\n",
    "            \n",
    "        if not is_adversary:\n",
    "            return self._adv\n",
    "        \n",
    "        # Binary search c\n",
    "        # 그 다음, 좀더 정밀하게 이진탐색을 통해 공격에 성공하는 최소 c값을 찾습니다.\n",
    "        c_low = 0\n",
    "        c_high = c\n",
    "    \n",
    "        while c_high - c_low >= epsilon:\n",
    "            \n",
    "            c_half = (c_low + c_high) / 2\n",
    "            is_adversary = self._lbfgsb(x0, c_half, steps)\n",
    "            if is_adversary:\n",
    "                c_high = c_high - epsilon\n",
    "            else:\n",
    "                c_low = c_half\n",
    "                \n",
    "    def _loss(self, adv_x, c):\n",
    "        adv = tf.convert_to_tensor(adv_x.reshape(self.data.shape), dtype=tf.float32)\n",
    "        adv = tf.Variable(adv, trainable=True)\n",
    "\n",
    "        with tf.GradientTape() as tape:\n",
    "            output = self.model(adv)\n",
    "\n",
    "            ce = tf.keras.losses.sparse_categorical_crossentropy(self.target, output, from_logits=True)\n",
    "            ce = tf.reduce_mean(ce)\n",
    "            d = tf.reduce_sum(tf.square(self.data - adv))\n",
    "            loss = c * ce + d\n",
    "\n",
    "        gradients = tape.gradient(loss, adv)\n",
    "        grad_ret = tf.reshape(gradients, [-1]).numpy().astype(float)\n",
    "        loss = loss.numpy().astype(float)\n",
    "\n",
    "        return loss, grad_ret\n",
    "\n",
    "    def _lbfgsb(self, x0, c, maxiter):\n",
    "        \n",
    "        min_, max_ = self.bounds\n",
    "        bounds = [(min_, max_)] * len(x0)\n",
    "        approx_grad_eps = (max_ - min_) / 100.0\n",
    "        \n",
    "        x, f, d = fmin_l_bfgs_b( # self._loss 를 최소화하는 x값, \n",
    "            self._loss,\n",
    "            x0,\n",
    "            args=(c, ),\n",
    "            bounds=bounds,\n",
    "            maxiter=maxiter,\n",
    "            epsilon=approx_grad_eps)\n",
    "        \n",
    "        # 최대, 최소 경계를 넘어가는 경우 그냥 CLIPPING\n",
    "        if np.amax(x) > max_ or np.amin(x) < min_:\n",
    "            x = np.clip(x, min_, max_)\n",
    "        adv = tf.convert_to_tensor(x.reshape(self.data.shape), dtype=tf.float32)\n",
    "        \n",
    "        output = self.model(adv)\n",
    "        adv_label = tf.argmax(output, axis=1)\n",
    "        logging.info('target_label = {}, adv_label={}'.format(self.target, adv_label))\n",
    "        self._adv = adv\n",
    "        self._output = output\n",
    "        return adv_label.numpy().item() == self.target.numpy().item()"
   ]
  },
  {
   "cell_type": "code",
   "execution_count": 8,
   "id": "bc87ced0-29bb-4efa-bb02-31220aa64bfa",
   "metadata": {
    "executionInfo": {
     "elapsed": 80489,
     "status": "ok",
     "timestamp": 1685610574593,
     "user": {
      "displayName": "Younghoon Kim",
      "userId": "02502586489806404813"
     },
     "user_tz": -540
    },
    "id": "bc87ced0-29bb-4efa-bb02-31220aa64bfa"
   },
   "outputs": [],
   "source": [
    "test_loader = iter(test_dataset)\n",
    "data_origin, label_origin = next(iter(test_loader))\n",
    "\n",
    "lbfgs = LBFGSAttack(model,)\n",
    "\n",
    "lbfgs(data_origin, tf.ones(1), epsilon=0.01)\n",
    "\n",
    "adv = lbfgs._adv\n",
    "\n",
    "label_adv = tf.argmax(model(adv), axis=1)\n",
    "\n",
    "#proba_original = tf.reduce_max(model(data)).numpy()*100\n",
    "proba_adv = tf.reduce_max(tf.nn.softmax(lbfgs._output), axis=1).numpy() * 100\n"
   ]
  },
  {
   "cell_type": "code",
   "execution_count": 9,
   "id": "d2282932-3913-48b5-bd14-47b8704b4776",
   "metadata": {
    "colab": {
     "base_uri": "https://localhost:8080/",
     "height": 458
    },
    "executionInfo": {
     "elapsed": 1837,
     "status": "ok",
     "timestamp": 1685610584888,
     "user": {
      "displayName": "Younghoon Kim",
      "userId": "02502586489806404813"
     },
     "user_tz": -540
    },
    "id": "d2282932-3913-48b5-bd14-47b8704b4776",
    "outputId": "22653977-9a97-4694-e37b-fbdd700efc74"
   },
   "outputs": [
    {
     "name": "stdout",
     "output_type": "stream",
     "text": [
      "\n",
      "모델이 예측한 원래 이미지의 라벨: tf.Tensor([8], shape=(1,), dtype=int64)\n",
      "데이터상 원래 이미지 라벨 tf.Tensor([8], shape=(1,), dtype=uint8)\n",
      "\n"
     ]
    },
    {
     "data": {
      "text/plain": [
       "<matplotlib.image.AxesImage at 0x7f6fda569450>"
      ]
     },
     "execution_count": 9,
     "metadata": {},
     "output_type": "execute_result"
    },
    {
     "data": {
      "image/png": "[encoded data removed]",
      "text/plain": [
       "<Figure size 800x1000 with 2 Axes>"
      ]
     },
     "metadata": {},
     "output_type": "display_data"
    }
   ],
   "source": [
    "import os    \n",
    "os.environ['KMP_DUPLICATE_LIB_OK']='True' #plt 실행할 때 kernel dead되는 것을 방지\n",
    "print(\"\")\n",
    "print(\"모델이 예측한 원래 이미지의 라벨:\",tf.argmax(model(data_origin),axis=1))\n",
    "print(\"데이터상 원래 이미지 라벨\",label_origin)\n",
    "print(\"\")\n",
    "\n",
    "fig, ax = plt.subplots(1, 2, figsize=(8, 10))\n",
    "\n",
    "# Adversarial Example 그리기 \n",
    "adv = tf.reshape(adv,(28,28))\n",
    "ax[1].imshow(adv, cmap='Greys')\n",
    "ax[1].set_title(\"Adversarial Example: {}, proba = {}%\".format(label_adv.numpy()[0],\n",
    "                                                               round(proba_adv[0], 2)))\n",
    "# Original data 그리기\n",
    "data = tf.reshape(data_origin,(28,28))\n",
    "ax[0].imshow(data, cmap='Greys')\n",
    "#ax[0].set_title(\"Original image: {}, proba = {}%\".format(target.numpy()[0], round(proba_original, 2)))"
   ]
  },
  {
   "cell_type": "code",
   "execution_count": null,
   "id": "f693e254-88e9-414b-a786-26b571116bac",
   "metadata": {
    "id": "f693e254-88e9-414b-a786-26b571116bac"
   },
   "outputs": [],
   "source": []
  },
  {
   "cell_type": "markdown",
   "id": "awCG70OaOYnX",
   "metadata": {
    "id": "awCG70OaOYnX"
   },
   "source": [
    "# Quiz\n",
    "\n",
    "목표 레이블을 1에서 9로 바꾸어 가며 L-BFGS공격을 하여 적대적공격샘플과 공격 성공여부를 확인해보세요."
   ]
  },
  {
   "cell_type": "markdown",
   "id": "902cba60-deb9-4de2-a3d7-3d5c16c31c47",
   "metadata": {},
   "source": [
    "# Answer\n",
    "\n",
    "lbfgs 호출 (`__call__`)함수의 인자로 target label을 지정해서 건네줍니다."
   ]
  },
  {
   "cell_type": "code",
   "execution_count": null,
   "id": "d3aa32e5-0ec0-4bf5-b4c9-3b21f1628367",
   "metadata": {
    "executionInfo": {
     "elapsed": 80489,
     "status": "ok",
     "timestamp": 1685610574593,
     "user": {
      "displayName": "Younghoon Kim",
      "userId": "02502586489806404813"
     },
     "user_tz": -540
    },
    "id": "bc87ced0-29bb-4efa-bb02-31220aa64bfa",
    "tags": []
   },
   "outputs": [],
   "source": [
    "target_label = 9\n",
    "\n",
    "lbfgs(data_origin, tf.ones(1) * target_label, epsilon=0.01)\n",
    "\n",
    "adv = lbfgs._advs\n",
    "\n",
    "label_adv = tf.argmax(model(adv), axis=1)\n",
    "\n",
    "#proba_original = tf.reduce_max(model(data)).numpy()*100\n",
    "proba_adv = tf.reduce_max(tf.nn.softmax(lbfgs._output), axis=1).numpy() * 100\n"
   ]
  },
  {
   "cell_type": "code",
   "execution_count": 16,
   "id": "f6f775d2-8440-4377-b814-180d45dec70e",
   "metadata": {
    "colab": {
     "base_uri": "https://localhost:8080/",
     "height": 458
    },
    "executionInfo": {
     "elapsed": 1837,
     "status": "ok",
     "timestamp": 1685610584888,
     "user": {
      "displayName": "Younghoon Kim",
      "userId": "02502586489806404813"
     },
     "user_tz": -540
    },
    "id": "d2282932-3913-48b5-bd14-47b8704b4776",
    "outputId": "22653977-9a97-4694-e37b-fbdd700efc74",
    "tags": []
   },
   "outputs": [
    {
     "name": "stdout",
     "output_type": "stream",
     "text": [
      "\n",
      "모델이 예측한 원래 이미지의 라벨: tf.Tensor([0], shape=(1,), dtype=int64)\n",
      "데이터상 원래 이미지 라벨 tf.Tensor([0], shape=(1,), dtype=uint8)\n",
      "\n"
     ]
    },
    {
     "data": {
      "text/plain": [
       "<matplotlib.image.AxesImage at 0x7f4270537af0>"
      ]
     },
     "execution_count": 16,
     "metadata": {},
     "output_type": "execute_result"
    },
    {
     "data": {
      "image/png": "[encoded data removed]",
      "text/plain": [
       "<Figure size 800x1000 with 2 Axes>"
      ]
     },
     "metadata": {},
     "output_type": "display_data"
    }
   ],
   "source": [
    "import os    \n",
    "os.environ['KMP_DUPLICATE_LIB_OK']='True' #plt 실행할 때 kernel dead되는 것을 방지\n",
    "print(\"\")\n",
    "print(\"모델이 예측한 원래 이미지의 라벨:\",tf.argmax(model(data_origin),axis=1))\n",
    "print(\"데이터상 원래 이미지 라벨\",label_origin)\n",
    "print(\"\")\n",
    "\n",
    "fig, ax = plt.subplots(1, 2, figsize=(8, 10))\n",
    "\n",
    "# Adversarial Example 그리기 \n",
    "adv = tf.reshape(adv,(28,28))\n",
    "ax[1].imshow(adv, cmap='Greys')\n",
    "ax[1].set_title(\"Adversarial Example: {}, proba = {}%\".format(label_adv.numpy()[0],\n",
    "                                                               round(proba_adv[0], 2)))\n",
    "# Original data 그리기\n",
    "data = tf.reshape(data_origin,(28,28))\n",
    "ax[0].imshow(data, cmap='Greys')\n",
    "#ax[0].set_title(\"Original image: {}, proba = {}%\".format(target.numpy()[0], round(proba_original, 2)))"
   ]
  },
  {
   "cell_type": "code",
   "execution_count": null,
   "id": "v6QitjUuO8Wk",
   "metadata": {
    "id": "v6QitjUuO8Wk"
   },
   "outputs": [],
   "source": []
  }
 ],
 "metadata": {
  "colab": {
   "provenance": []
  },
  "kernelspec": {
   "display_name": "Python 3 (ipykernel)",
   "language": "python",
   "name": "python3"
  },
  "language_info": {
   "codemirror_mode": {
    "name": "ipython",
    "version": 3
   },
   "file_extension": ".py",
   "mimetype": "text/x-python",
   "name": "python",
   "nbconvert_exporter": "python",
   "pygments_lexer": "ipython3",
   "version": "3.8.16"
  }
 },
 "nbformat": 4,
 "nbformat_minor": 5
}
